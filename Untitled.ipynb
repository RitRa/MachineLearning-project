{
 "cells": [
  {
   "cell_type": "code",
   "execution_count": 2,
   "metadata": {},
   "outputs": [
    {
     "data": {
      "application/vnd.jupyter.widget-view+json": {
       "model_id": "fb2f9c07c5714275bc0f2d93520c2673",
       "version_major": 2,
       "version_minor": 0
      },
      "text/plain": [
       "interactive(children=(Dropdown(description='color', options=('red', 'steelblue'), value='red'), Output()), _do…"
      ]
     },
     "metadata": {},
     "output_type": "display_data"
    },
    {
     "data": {
      "application/vnd.jupyter.widget-view+json": {
       "model_id": "99fa6f6c613c453a8b3922df4f8b6bc0",
       "version_major": 2,
       "version_minor": 0
      },
      "text/plain": [
       "interactive(children=(Dropdown(description='color', options=('red', 'steelblue'), value='red'), Output()), _do…"
      ]
     },
     "metadata": {},
     "output_type": "display_data"
    }
   ],
   "source": [
    "import seaborn as sns\n",
    "import ipywidgets\n",
    "\n",
    "@ipywidgets.interact\n",
    "def plot(color=['red','steelblue']):\n",
    "         sns.scatterplot(x=\"RM\", y=\"MEDV\", data=boston)\n",
    "        \n",
    "@ipywidgets.interact\n",
    "def plot(color=['red','steelblue']):\n",
    "         sns.scatterplot(x=\"LSTAT\", y=\"MEDV\", data=boston)\n",
    "    "
   ]
  },
  {
   "cell_type": "code",
   "execution_count": 3,
   "metadata": {},
   "outputs": [],
   "source": [
    "import pandas as pd\n",
    "import numpy as np\n",
    "import matplotlib as mpl # optional (here)\n",
    "import matplotlib.pyplot as plt\n",
    "import seaborn as sns # Optional, will only affect the color of bars and the grid\n",
    "\n",
    "from ipywidgets import widgets, interactive"
   ]
  },
  {
   "cell_type": "code",
   "execution_count": 4,
   "metadata": {},
   "outputs": [],
   "source": [
    "from io import StringIO\n",
    "\n",
    "testdata=StringIO(\"\"\"Year,Sex,Area,Count\n",
    "2015,W,Dhaka,6\n",
    "2015,M,Dhaka,3\n",
    "2015,W,Khulna,1\n",
    "2015,M,Khulna,8\n",
    "2014,M,Dhaka,13\n",
    "2014,W,Dhaka,20\n",
    "2014,M,Khulna,9\n",
    "2014,W,Khulna,6\n",
    "2013,W,Dhaka,11\n",
    "2013,M,Dhaka,2\n",
    "2013,W,Khulna,8\n",
    "2013,M,Khulna,5\n",
    "2012,M,Dhaka,12\n",
    "2012,W,Dhaka,4\n",
    "2012,W,Khulna,7\n",
    "2012,M,Khulna,1\n",
    "    \"\"\")\n",
    "\n",
    "df = pd.read_csv(testdata, sep=\",\")"
   ]
  },
  {
   "cell_type": "code",
   "execution_count": 5,
   "metadata": {},
   "outputs": [],
   "source": [
    "# Create two bounded text box that allow only numbers between the min year (2012) and the max year (2015)\n",
    "start_year = widgets.BoundedFloatText(\n",
    "    value=df.Year.min(),\n",
    "    min=df.Year.min(),\n",
    "    max=df.Year.max(),\n",
    "    step=1,\n",
    "    description='Start Year:',\n",
    "    disabled=False,\n",
    "    color='black'\n",
    ")\n",
    "end_year = widgets.BoundedFloatText(\n",
    "    value=df.Year.max(),\n",
    "    min=df.Year.min(),\n",
    "    max=df.Year.max(),\n",
    "    step=1,\n",
    "    description='End Year:',\n",
    "    disabled=False,\n",
    "    color='black'\n",
    ")\n",
    "\n",
    "# Make a dropdown to select the Area, or \"All\"\n",
    "area = widgets.Dropdown(\n",
    "    options=['All'] + list(df['Area'].unique()),\n",
    "    value='All',\n",
    "    description='Area:',\n",
    ")\n",
    "\n",
    "def plotit(area, start_year, end_year):\n",
    "    \"\"\"\n",
    "    Filters and plot the dataframe as a stacked bar chart of count of Male versus Women\n",
    "\n",
    "    Args:\n",
    "    -----\n",
    "        * area (str): the area to filter on, or \"All\" to display all Areas\n",
    "\n",
    "        * start_year, end_year (int, as float): the start and ends years, inclusive\n",
    "\n",
    "        Note: the dataframe to plot is globally defined here as `df`\n",
    "\n",
    "    Returns:\n",
    "    --------\n",
    "        A matplotlib stacked bar chart\n",
    "\n",
    "    \"\"\"\n",
    "    if start_year > end_year:\n",
    "        print(\"You must select a start year that is prior to end year\")\n",
    "    else:\n",
    "        df2 = df.copy()\n",
    "        if area != 'All':\n",
    "            df2 = df2[df2.Area == area]\n",
    "\n",
    "        # Filter between min and max years (inclusive)\n",
    "        df2 = df2[(df2.Year >= start_year) & (df2.Year <= end_year)]\n",
    "\n",
    "\n",
    "        # Plot it (only if there's data to plot)\n",
    "        if len(df2) > 0:\n",
    "            df2.groupby(['Year', 'Sex']).sum()['Count'].unstack().plot(kind='bar', stacked=True, title=\"Area = {}\".format(area))\n",
    "            plt.show();\n",
    "        else:\n",
    "            print(\"No data to show for current selection\")"
   ]
  },
  {
   "cell_type": "code",
   "execution_count": 6,
   "metadata": {},
   "outputs": [
    {
     "data": {
      "application/vnd.jupyter.widget-view+json": {
       "model_id": "d6b3ffaf0c7f43bdb322a7e6faab1a7c",
       "version_major": 2,
       "version_minor": 0
      },
      "text/plain": [
       "interactive(children=(Dropdown(description='Area:', options=('All', 'Dhaka', 'Khulna'), value='All'), BoundedF…"
      ]
     },
     "metadata": {},
     "output_type": "display_data"
    }
   ],
   "source": [
    "interactive(plotit, area=area, start_year=start_year, end_year=end_year)"
   ]
  },
  {
   "cell_type": "markdown",
   "metadata": {},
   "source": [
    "https://stackoverflow.com/questions/40467672/add-dropdown-list-and-text-box-in-matplotlib-and-show-plot-according-to-the-inpu"
   ]
  },
  {
   "cell_type": "code",
   "execution_count": null,
   "metadata": {},
   "outputs": [],
   "source": []
  }
 ],
 "metadata": {
  "kernelspec": {
   "display_name": "Python 3",
   "language": "python",
   "name": "python3"
  },
  "language_info": {
   "codemirror_mode": {
    "name": "ipython",
    "version": 3
   },
   "file_extension": ".py",
   "mimetype": "text/x-python",
   "name": "python",
   "nbconvert_exporter": "python",
   "pygments_lexer": "ipython3",
   "version": "3.7.3"
  }
 },
 "nbformat": 4,
 "nbformat_minor": 2
}
